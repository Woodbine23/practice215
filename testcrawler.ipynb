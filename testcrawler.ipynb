{
 "cells": [
  {
   "cell_type": "code",
   "execution_count": 10,
   "id": "2972b95c",
   "metadata": {},
   "outputs": [
    {
     "name": "stdout",
     "output_type": "stream",
     "text": [
      "Saved as CSV file.\n"
     ]
    }
   ],
   "source": [
    "## this a practice of how to get metadata from crossref. for education purposes only.\n",
    "\n",
    "import csv\n",
    "import requests\n",
    "issn = '1949-5005'\n",
    "url = f\"https://api.crossref.org/journals/{issn}/works\"\n",
    "max_results = 200\n",
    "params = {\n",
    "    \"rows\": max_results,\n",
    "    \"sort\": \"created\"\n",
    "}\n",
    "response = requests.get(url, params=params)\n",
    "\n",
    "if response.status_code == 200:\n",
    "    data = response.json()\n",
    "    articles = []\n",
    "    for item in data[\"message\"][\"items\"]:\n",
    "        doi = item.get(\"DOI\")\n",
    "        title = item.get(\"title\")[0]\n",
    "        authors = [author.get(\"given\") + \" \" + author.get(\"family\") for author in item.get(\"author\")]\n",
    "        publication_date = item.get(\"created\").get(\"date-time\")[:10]\n",
    "        journal = item.get(\"container-title\")[0]\n",
    "        articles.append([doi, title, \", \".join(authors), publication_date, journal])\n",
    "    with open(\"articles.csv\", \"w\", newline=\"\", encoding=\"utf-8\") as file:\n",
    "        writer = csv.writer(file)\n",
    "        writer.writerow([\"DOI\", \"Title\", \"Authors\", \"Publication Date\", \"Journal\"])\n",
    "        writer.writerows(articles)\n",
    "\n",
    "    print(\"Saved as CSV file.\")\n",
    "else:\n",
    "    print(\"did not fetch articles\")"
   ]
  },
  {
   "cell_type": "code",
   "execution_count": null,
   "id": "40bdd32b",
   "metadata": {},
   "outputs": [],
   "source": []
  }
 ],
 "metadata": {
  "kernelspec": {
   "display_name": "Python 3 (ipykernel)",
   "language": "python",
   "name": "python3"
  },
  "language_info": {
   "codemirror_mode": {
    "name": "ipython",
    "version": 3
   },
   "file_extension": ".py",
   "mimetype": "text/x-python",
   "name": "python",
   "nbconvert_exporter": "python",
   "pygments_lexer": "ipython3",
   "version": "3.9.13"
  }
 },
 "nbformat": 4,
 "nbformat_minor": 5
}
